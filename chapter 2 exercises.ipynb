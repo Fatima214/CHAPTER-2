{
 "cells": [
  {
   "cell_type": "markdown",
   "metadata": {},
   "source": [
    "# 2.1"
   ]
  },
  {
   "cell_type": "code",
   "execution_count": 2,
   "metadata": {},
   "outputs": [
    {
     "name": "stdout",
     "output_type": "stream",
     "text": [
      "15\n",
      "24.333333333333332\n",
      "5\n",
      "38\n",
      "1024\n",
      "3\n",
      "29.95\n"
     ]
    }
   ],
   "source": [
    "#a\n",
    "sum=1+2+3+4+5\n",
    "print(sum)\n",
    "#b\n",
    "average=(23+19+31)/3\n",
    "print(average)\n",
    "#c\n",
    "num=403//73\n",
    "print(num)\n",
    "#d\n",
    "num1=403%73\n",
    "print(num1)\n",
    "#e\n",
    "num2=2**10\n",
    "print(num2)\n",
    "#f\n",
    "diff=54-57\n",
    "diff2=abs(diff)\n",
    "print(diff2)\n",
    "#g\n",
    "lowestprice=min(34.99, 29.95,31.50)\n",
    "print(lowestprice)"
   ]
  },
  {
   "cell_type": "markdown",
   "metadata": {},
   "source": [
    "# 2.2"
   ]
  },
  {
   "cell_type": "code",
   "execution_count": 5,
   "metadata": {},
   "outputs": [
    {
     "name": "stdout",
     "output_type": "stream",
     "text": [
      "False\n",
      "True\n",
      "True\n",
      "False\n",
      "True\n",
      "False\n",
      "True\n"
     ]
    }
   ],
   "source": [
    "#a\n",
    "a=2+2<4\n",
    "print(a)\n",
    "#b\n",
    "b=7//3==1+1\n",
    "print(b)\n",
    "#c\n",
    "c=3**2+4**2==25\n",
    "print(c)\n",
    "#d\n",
    "d=2+4+6>12\n",
    "print(d)\n",
    "#e\n",
    "e=1387%19==0\n",
    "print(e)\n",
    "#f\n",
    "f=31%2==0\n",
    "print(f)\n",
    "#g\n",
    "g=min(34.99,29.95,31.50)<30.00\n",
    "print(g)\n"
   ]
  },
  {
   "cell_type": "markdown",
   "metadata": {},
   "source": [
    "# 2.3"
   ]
  },
  {
   "cell_type": "code",
   "execution_count": 7,
   "metadata": {},
   "outputs": [
    {
     "name": "stdout",
     "output_type": "stream",
     "text": [
      "25\n"
     ]
    }
   ],
   "source": [
    "a=3\n",
    "b=4\n",
    "c=a * a + b * b\n",
    "print(c)"
   ]
  },
  {
   "cell_type": "markdown",
   "metadata": {},
   "source": [
    "# 2.4"
   ]
  },
  {
   "cell_type": "code",
   "execution_count": 32,
   "metadata": {},
   "outputs": [
    {
     "name": "stdout",
     "output_type": "stream",
     "text": [
      "ant bat cod\n",
      "ant ant ant ant ant ant ant ant ant ant \n",
      "ant bat bat cod cod cod \n",
      "ant bat ant bat ant bat ant bat ant bat ant bat ant bat \n",
      "batbatcod batbatcod batbatcod batbatcod batbatcod \n"
     ]
    }
   ],
   "source": [
    "s1 = 'ant'\n",
    "s2 = 'bat'\n",
    "s3 = 'cod'\n",
    "#a\n",
    "concat=s1+' '+s2+' '+s3\n",
    "print(concat)\n",
    "#b\n",
    "multiple=(s1+' ')*10\n",
    "print(multiple)\n",
    "#c\n",
    "multiple2=s1+' '+(s2+' ')*2+''+(s3+' ')*3\n",
    "print(multiple2)\n",
    "#d\n",
    "multiple3=(s1+' '+s2+' ')*7\n",
    "print(multiple3)\n",
    "#e\n",
    "multiple4=(s2+s2+s3+' ')*5\n",
    "print(multiple4)"
   ]
  },
  {
   "cell_type": "markdown",
   "metadata": {},
   "source": [
    "# 2.5"
   ]
  },
  {
   "cell_type": "code",
   "execution_count": 33,
   "metadata": {},
   "outputs": [
    {
     "name": "stdout",
     "output_type": "stream",
     "text": [
      "0\n",
      "1\n",
      "6\n",
      "8\n",
      "9\n"
     ]
    }
   ],
   "source": [
    "s = '0123456789'\n",
    "#a\n",
    "index=s[0]\n",
    "print(index)\n",
    "#b\n",
    "index2=s[1]\n",
    "print(index2)\n",
    "#c\n",
    "index3=s[6]\n",
    "print(index3)\n",
    "#d\n",
    "index4=s[8]\n",
    "print(index4)\n",
    "#e\n",
    "index5=s[9]\n",
    "print(index5)"
   ]
  },
  {
   "cell_type": "markdown",
   "metadata": {},
   "source": [
    "# 2.6"
   ]
  },
  {
   "cell_type": "code",
   "execution_count": 35,
   "metadata": {},
   "outputs": [
    {
     "name": "stdout",
     "output_type": "stream",
     "text": [
      "badminton bat\n"
     ]
    }
   ],
   "source": [
    "words = ['bat', 'ball', 'barn', 'basket', 'badminton']\n",
    "word=min(words)\n",
    "word2=max(words)\n",
    "print(word,word2)"
   ]
  },
  {
   "cell_type": "markdown",
   "metadata": {},
   "source": [
    "# 2.7"
   ]
  },
  {
   "cell_type": "code",
   "execution_count": 16,
   "metadata": {},
   "outputs": [
    {
     "name": "stdout",
     "output_type": "stream",
     "text": [
      "[9, 7, 7, 10, 3, 9, 6, 6, 2]\n",
      "[9, 7, 7, 10, 3, 9, 6, 6, 4]\n",
      "10\n",
      "[3, 4, 6, 6, 7, 7, 9, 9, 10]\n",
      "6.777777777777778\n"
     ]
    }
   ],
   "source": [
    "grades = [9, 7, 7, 10, 3, 9, 6, 6, 2]\n",
    "#a\n",
    "grades.count(7)\n",
    "print(grades)\n",
    "#b\n",
    "grades[-1]=4\n",
    "print(grades)\n",
    "#c\n",
    "c=max(grades)\n",
    "print(c)\n",
    "#d\n",
    "grades.sort()\n",
    "print(grades)\n",
    "#e\n",
    "e=sum(grades)/len(grades)\n",
    "print(e)"
   ]
  },
  {
   "cell_type": "markdown",
   "metadata": {},
   "source": [
    "# 2.8"
   ]
  },
  {
   "cell_type": "code",
   "execution_count": 20,
   "metadata": {},
   "outputs": [
    {
     "data": {
      "text/plain": [
       "True"
      ]
     },
     "execution_count": 20,
     "metadata": {},
     "output_type": "execute_result"
    }
   ],
   "source": [
    "#a\n",
    "a=6\n",
    "((2 + 3) == 4) or (a >= 5)\n",
    "#b\n",
    "lst=[1,2,3]\n",
    "(((lst[1]) * (-3)) < (-10)) == 0\n",
    "#c\n",
    "lst=[1,2,3]\n",
    "(((lst[1]) * (-3)) < (-10)) in [0, True]\n",
    "#d\n",
    "2 * (3**2)\n",
    "#e\n",
    "(4 / 2) in [1, 2, 3]"
   ]
  },
  {
   "cell_type": "markdown",
   "metadata": {},
   "source": [
    "# 2.9"
   ]
  },
  {
   "cell_type": "code",
   "execution_count": 2,
   "metadata": {},
   "outputs": [
    {
     "name": "stdout",
     "output_type": "stream",
     "text": [
      "the expression evaluate to integer: 0\n",
      "the type is float: 18.0\n",
      "the type is integer: 2\n",
      "the type is bool: True\n"
     ]
    }
   ],
   "source": [
    "#a\n",
    "a=False+False\n",
    "print(\"the expression evaluate to integer:\",a)\n",
    "#b\n",
    "v=2 * 3**2.0\n",
    "print(\"the type is float:\",v)\n",
    "#c\n",
    "g=4 // 2 + 4 % 2\n",
    "print(\"the type is integer:\",g)\n",
    "#d\n",
    "q=2 + 3 == 4 or 5 >= 5\n",
    "print(\"the type is bool:\",q)"
   ]
  },
  {
   "cell_type": "markdown",
   "metadata": {},
   "source": [
    "# 2.10"
   ]
  },
  {
   "cell_type": "code",
   "execution_count": 4,
   "metadata": {},
   "outputs": [
    {
     "name": "stdout",
     "output_type": "stream",
     "text": [
      "85.9127464349732\n",
      "False\n",
      "13684.77759903714\n",
      "False\n"
     ]
    }
   ],
   "source": [
    "#a\n",
    "import math\n",
    "a=66\n",
    "b=55\n",
    "hyp=math.sqrt(a**2 + b**2)\n",
    "print(hyp)\n",
    "#b\n",
    "h=math.sqrt(a**2 + b**2) == 5\n",
    "print(h)\n",
    "#c\n",
    "area=math.pi * a**2\n",
    "print(area)\n",
    "#d\n",
    "x=3\n",
    "y=4\n",
    "r=9\n",
    "cir=(x - a)**2 + (y - b)**2 < r**2\n",
    "print(cir)"
   ]
  },
  {
   "cell_type": "code",
   "execution_count": null,
   "metadata": {},
   "outputs": [],
   "source": []
  }
 ],
 "metadata": {
  "kernelspec": {
   "display_name": "Python 3",
   "language": "python",
   "name": "python3"
  },
  "language_info": {
   "codemirror_mode": {
    "name": "ipython",
    "version": 3
   },
   "file_extension": ".py",
   "mimetype": "text/x-python",
   "name": "python",
   "nbconvert_exporter": "python",
   "pygments_lexer": "ipython3",
   "version": "3.7.3"
  }
 },
 "nbformat": 4,
 "nbformat_minor": 2
}
